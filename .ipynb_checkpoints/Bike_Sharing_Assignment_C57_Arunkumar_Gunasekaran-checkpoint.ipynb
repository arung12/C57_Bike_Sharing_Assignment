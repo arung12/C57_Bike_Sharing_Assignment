{
 "cells": [
  {
   "cell_type": "markdown",
   "id": "e8003dec",
   "metadata": {},
   "source": [
    "# BoomBikes's Demand Linear Regression Model Development"
   ]
  },
  {
   "cell_type": "markdown",
   "id": "c5afa328",
   "metadata": {},
   "source": [
    "##### Done By\n",
    "\n",
    "Name: **Arunkumar Gunasekaran**\n",
    "\n",
    "Batch: **ML C57**  Assignment: **Bike Sharing Assignment**\n",
    "\n",
    "Email: manigunasekaran30@gmail.com"
   ]
  },
  {
   "cell_type": "markdown",
   "id": "fdd5b65d",
   "metadata": {},
   "source": [
    "# Bike Sharing Assignment"
   ]
  },
  {
   "cell_type": "markdown",
   "id": "dbddb0f9",
   "metadata": {},
   "source": [
    "## Table of Contents\n",
    "1. [Problem Statement](#Problem-Statement)\n",
    "   - [Business Objective](#Business-Objective)\n",
    "2. [Importing Necessary Modules](#Importing-Necessary-Modules)\n",
    "3. [Data Understanding](#Data-Understanding)\n",
    "   - [Loading Data from the CSV](#Loading-Data-from-the-CSV)\n",
    "   - [Understanding Structure of dataset](#Understanding-Structure-of-dataset)\n",
    "   - [Data Quality checks](#Data-Quality-checks)\n",
    "4. [Data Preparation](#Data-Preparation)\n",
    "    - [Fixing Data Types](#Fixing-Data-Types)\n",
    "    - [Converting Values to clean and understandable format](#Converting-Values-to-clean-and-understandable-format)\n",
    "    - [Droping irrelevant columns](#Droping-irrelevant-columns)\n",
    "    - [EDA](#EDA)\n",
    "       - [Univariate Analysis](#Univariate-Analysis)\n",
    "       - [Bivariate Analysis](#Bivariate-Analysis)\n",
    "    - [Creating Dummy Variables](#Creating-Dummy-Variables)\n",
    "5. [Model Building](#Model-Building)\n",
    "    - [Test Train Split](#Test-Train-Split)\n",
    "    - [Scaling features](#Scaling-features)\n",
    "    - [Feature Selection](#Feature-Selection)\n",
    "       - [RFE](#RFE)\n",
    "       - [Manual Feature Selection](#Manual-Feature-Selection)\n",
    "6. [Model Evaluation](#Model-Evaluation)\n",
    "     - [Residual Analysis](#Residual-Analysis)\n",
    "     - [Model Evaluation using Test data](#model-Evaluation-using-Test-data)\n",
    "     - [Model Efficiency](#Model-Efficiency)\n",
    "7. [Conclusion](#Conclusion)"
   ]
  },
  {
   "cell_type": "markdown",
   "id": "33e79042",
   "metadata": {},
   "source": [
    "## Problem Statement"
   ]
  },
  {
   "cell_type": "markdown",
   "id": "56d299e2",
   "metadata": {},
   "source": [
    "A bike-sharing system is a service in which bikes are made available for shared use to individuals on a short term basis for a price or free. Many bike share systems allow people to borrow a bike from a \"dock\" which is usually computer-controlled wherein the user enters the payment information, and the system unlocks it. This bike can then be returned to another dock belonging to the same system."
   ]
  },
  {
   "cell_type": "markdown",
   "id": "ffacb153",
   "metadata": {},
   "source": [
    "A US bike-sharing provider BoomBikes has recently suffered considerable dips in their revenues due to the ongoing Corona pandemic. The company is finding it very difficult to sustain in the current market scenario. So, it has decided to come up with a mindful business plan to be able to accelerate its revenue as soon as the ongoing lockdown comes to an end, and the economy restores to a healthy state. "
   ]
  },
  {
   "cell_type": "markdown",
   "id": "1cb31271",
   "metadata": {},
   "source": [
    "### Business Objective"
   ]
  },
  {
   "cell_type": "markdown",
   "id": "138b1c17",
   "metadata": {},
   "source": [
    "1. To model the demand for shared bikes with the available independent variables\n",
    "2. To understand Which variables are significant in predicting the demand for shared bikes\n",
    "3. To understand how exactly the demands vary with different features\n",
    "\n",
    "So, accordingly manipulate the business strategy to meet the demand levels and meet the customer's expectations\n"
   ]
  },
  {
   "cell_type": "markdown",
   "id": "9a4e3e4c",
   "metadata": {},
   "source": [
    "We need to Build a machine Learning model to predict the demand, As the demand is the numerical values and we have existing data labels. We would proceed Analysis for building a Linear Regression Model"
   ]
  },
  {
   "cell_type": "markdown",
   "id": "8303af01",
   "metadata": {},
   "source": [
    "## Importing Necessary Modules"
   ]
  },
  {
   "cell_type": "code",
   "execution_count": 1,
   "id": "4b6dafb1",
   "metadata": {},
   "outputs": [],
   "source": [
    "# Supress Warnings\n",
    "import warnings\n",
    "warnings.filterwarnings('ignore')\n",
    "\n",
    "# For analysis and numerical functions\n",
    "import numpy as np\n",
    "import pandas as pd\n",
    "\n",
    "# For Vizualization\n",
    "import seaborn as sns\n",
    "import matplotlib.pyplot as plt\n",
    "\n",
    "#For building model\n",
    "from sklearn.model_selection import train_test_split\n",
    "from sklearn.preprocessing import MinMaxScaler\n",
    "from sklearn.feature_selection import RFE\n",
    "from sklearn.linear_model import LinearRegression\n",
    "import statsmodels.api as sm\n",
    "from statsmodels.stats.outliers_influence import variance_inflation_factor\n",
    "\n",
    "#For Model Evaluation\n",
    "from sklearn.metrics import mean_squared_error\n",
    "from sklearn.metrics import r2_score"
   ]
  },
  {
   "cell_type": "markdown",
   "id": "000e6b6f",
   "metadata": {},
   "source": [
    "## Data Understanding"
   ]
  },
  {
   "cell_type": "markdown",
   "id": "291af517",
   "metadata": {},
   "source": [
    "### Loading Data from the CSV"
   ]
  },
  {
   "cell_type": "code",
   "execution_count": 2,
   "id": "77da3ce3",
   "metadata": {},
   "outputs": [],
   "source": [
    "#Loading data from CSV using pandas\n",
    "df = pd.read_csv(\"day.csv\")"
   ]
  },
  {
   "cell_type": "code",
   "execution_count": 3,
   "id": "5efab023",
   "metadata": {},
   "outputs": [
    {
     "data": {
      "text/html": [
       "<div>\n",
       "<style scoped>\n",
       "    .dataframe tbody tr th:only-of-type {\n",
       "        vertical-align: middle;\n",
       "    }\n",
       "\n",
       "    .dataframe tbody tr th {\n",
       "        vertical-align: top;\n",
       "    }\n",
       "\n",
       "    .dataframe thead th {\n",
       "        text-align: right;\n",
       "    }\n",
       "</style>\n",
       "<table border=\"1\" class=\"dataframe\">\n",
       "  <thead>\n",
       "    <tr style=\"text-align: right;\">\n",
       "      <th></th>\n",
       "      <th>instant</th>\n",
       "      <th>dteday</th>\n",
       "      <th>season</th>\n",
       "      <th>yr</th>\n",
       "      <th>mnth</th>\n",
       "      <th>holiday</th>\n",
       "      <th>weekday</th>\n",
       "      <th>workingday</th>\n",
       "      <th>weathersit</th>\n",
       "      <th>temp</th>\n",
       "      <th>atemp</th>\n",
       "      <th>hum</th>\n",
       "      <th>windspeed</th>\n",
       "      <th>casual</th>\n",
       "      <th>registered</th>\n",
       "      <th>cnt</th>\n",
       "    </tr>\n",
       "  </thead>\n",
       "  <tbody>\n",
       "    <tr>\n",
       "      <th>0</th>\n",
       "      <td>1</td>\n",
       "      <td>01-01-2018</td>\n",
       "      <td>1</td>\n",
       "      <td>0</td>\n",
       "      <td>1</td>\n",
       "      <td>0</td>\n",
       "      <td>6</td>\n",
       "      <td>0</td>\n",
       "      <td>2</td>\n",
       "      <td>14.110847</td>\n",
       "      <td>18.18125</td>\n",
       "      <td>80.5833</td>\n",
       "      <td>10.749882</td>\n",
       "      <td>331</td>\n",
       "      <td>654</td>\n",
       "      <td>985</td>\n",
       "    </tr>\n",
       "    <tr>\n",
       "      <th>1</th>\n",
       "      <td>2</td>\n",
       "      <td>02-01-2018</td>\n",
       "      <td>1</td>\n",
       "      <td>0</td>\n",
       "      <td>1</td>\n",
       "      <td>0</td>\n",
       "      <td>0</td>\n",
       "      <td>0</td>\n",
       "      <td>2</td>\n",
       "      <td>14.902598</td>\n",
       "      <td>17.68695</td>\n",
       "      <td>69.6087</td>\n",
       "      <td>16.652113</td>\n",
       "      <td>131</td>\n",
       "      <td>670</td>\n",
       "      <td>801</td>\n",
       "    </tr>\n",
       "    <tr>\n",
       "      <th>2</th>\n",
       "      <td>3</td>\n",
       "      <td>03-01-2018</td>\n",
       "      <td>1</td>\n",
       "      <td>0</td>\n",
       "      <td>1</td>\n",
       "      <td>0</td>\n",
       "      <td>1</td>\n",
       "      <td>1</td>\n",
       "      <td>1</td>\n",
       "      <td>8.050924</td>\n",
       "      <td>9.47025</td>\n",
       "      <td>43.7273</td>\n",
       "      <td>16.636703</td>\n",
       "      <td>120</td>\n",
       "      <td>1229</td>\n",
       "      <td>1349</td>\n",
       "    </tr>\n",
       "    <tr>\n",
       "      <th>3</th>\n",
       "      <td>4</td>\n",
       "      <td>04-01-2018</td>\n",
       "      <td>1</td>\n",
       "      <td>0</td>\n",
       "      <td>1</td>\n",
       "      <td>0</td>\n",
       "      <td>2</td>\n",
       "      <td>1</td>\n",
       "      <td>1</td>\n",
       "      <td>8.200000</td>\n",
       "      <td>10.60610</td>\n",
       "      <td>59.0435</td>\n",
       "      <td>10.739832</td>\n",
       "      <td>108</td>\n",
       "      <td>1454</td>\n",
       "      <td>1562</td>\n",
       "    </tr>\n",
       "    <tr>\n",
       "      <th>4</th>\n",
       "      <td>5</td>\n",
       "      <td>05-01-2018</td>\n",
       "      <td>1</td>\n",
       "      <td>0</td>\n",
       "      <td>1</td>\n",
       "      <td>0</td>\n",
       "      <td>3</td>\n",
       "      <td>1</td>\n",
       "      <td>1</td>\n",
       "      <td>9.305237</td>\n",
       "      <td>11.46350</td>\n",
       "      <td>43.6957</td>\n",
       "      <td>12.522300</td>\n",
       "      <td>82</td>\n",
       "      <td>1518</td>\n",
       "      <td>1600</td>\n",
       "    </tr>\n",
       "  </tbody>\n",
       "</table>\n",
       "</div>"
      ],
      "text/plain": [
       "   instant      dteday  season  yr  mnth  holiday  weekday  workingday  \\\n",
       "0        1  01-01-2018       1   0     1        0        6           0   \n",
       "1        2  02-01-2018       1   0     1        0        0           0   \n",
       "2        3  03-01-2018       1   0     1        0        1           1   \n",
       "3        4  04-01-2018       1   0     1        0        2           1   \n",
       "4        5  05-01-2018       1   0     1        0        3           1   \n",
       "\n",
       "   weathersit       temp     atemp      hum  windspeed  casual  registered  \\\n",
       "0           2  14.110847  18.18125  80.5833  10.749882     331         654   \n",
       "1           2  14.902598  17.68695  69.6087  16.652113     131         670   \n",
       "2           1   8.050924   9.47025  43.7273  16.636703     120        1229   \n",
       "3           1   8.200000  10.60610  59.0435  10.739832     108        1454   \n",
       "4           1   9.305237  11.46350  43.6957  12.522300      82        1518   \n",
       "\n",
       "    cnt  \n",
       "0   985  \n",
       "1   801  \n",
       "2  1349  \n",
       "3  1562  \n",
       "4  1600  "
      ]
     },
     "execution_count": 3,
     "metadata": {},
     "output_type": "execute_result"
    }
   ],
   "source": [
    "df.head()"
   ]
  },
  {
   "cell_type": "code",
   "execution_count": 4,
   "id": "149e7fa5",
   "metadata": {},
   "outputs": [
    {
     "data": {
      "text/html": [
       "<div>\n",
       "<style scoped>\n",
       "    .dataframe tbody tr th:only-of-type {\n",
       "        vertical-align: middle;\n",
       "    }\n",
       "\n",
       "    .dataframe tbody tr th {\n",
       "        vertical-align: top;\n",
       "    }\n",
       "\n",
       "    .dataframe thead th {\n",
       "        text-align: right;\n",
       "    }\n",
       "</style>\n",
       "<table border=\"1\" class=\"dataframe\">\n",
       "  <thead>\n",
       "    <tr style=\"text-align: right;\">\n",
       "      <th></th>\n",
       "      <th>instant</th>\n",
       "      <th>dteday</th>\n",
       "      <th>season</th>\n",
       "      <th>yr</th>\n",
       "      <th>mnth</th>\n",
       "      <th>holiday</th>\n",
       "      <th>weekday</th>\n",
       "      <th>workingday</th>\n",
       "      <th>weathersit</th>\n",
       "      <th>temp</th>\n",
       "      <th>atemp</th>\n",
       "      <th>hum</th>\n",
       "      <th>windspeed</th>\n",
       "      <th>casual</th>\n",
       "      <th>registered</th>\n",
       "      <th>cnt</th>\n",
       "    </tr>\n",
       "  </thead>\n",
       "  <tbody>\n",
       "    <tr>\n",
       "      <th>725</th>\n",
       "      <td>726</td>\n",
       "      <td>27-12-2019</td>\n",
       "      <td>1</td>\n",
       "      <td>1</td>\n",
       "      <td>12</td>\n",
       "      <td>0</td>\n",
       "      <td>4</td>\n",
       "      <td>1</td>\n",
       "      <td>2</td>\n",
       "      <td>10.420847</td>\n",
       "      <td>11.33210</td>\n",
       "      <td>65.2917</td>\n",
       "      <td>23.458911</td>\n",
       "      <td>247</td>\n",
       "      <td>1867</td>\n",
       "      <td>2114</td>\n",
       "    </tr>\n",
       "    <tr>\n",
       "      <th>726</th>\n",
       "      <td>727</td>\n",
       "      <td>28-12-2019</td>\n",
       "      <td>1</td>\n",
       "      <td>1</td>\n",
       "      <td>12</td>\n",
       "      <td>0</td>\n",
       "      <td>5</td>\n",
       "      <td>1</td>\n",
       "      <td>2</td>\n",
       "      <td>10.386653</td>\n",
       "      <td>12.75230</td>\n",
       "      <td>59.0000</td>\n",
       "      <td>10.416557</td>\n",
       "      <td>644</td>\n",
       "      <td>2451</td>\n",
       "      <td>3095</td>\n",
       "    </tr>\n",
       "    <tr>\n",
       "      <th>727</th>\n",
       "      <td>728</td>\n",
       "      <td>29-12-2019</td>\n",
       "      <td>1</td>\n",
       "      <td>1</td>\n",
       "      <td>12</td>\n",
       "      <td>0</td>\n",
       "      <td>6</td>\n",
       "      <td>0</td>\n",
       "      <td>2</td>\n",
       "      <td>10.386653</td>\n",
       "      <td>12.12000</td>\n",
       "      <td>75.2917</td>\n",
       "      <td>8.333661</td>\n",
       "      <td>159</td>\n",
       "      <td>1182</td>\n",
       "      <td>1341</td>\n",
       "    </tr>\n",
       "    <tr>\n",
       "      <th>728</th>\n",
       "      <td>729</td>\n",
       "      <td>30-12-2019</td>\n",
       "      <td>1</td>\n",
       "      <td>1</td>\n",
       "      <td>12</td>\n",
       "      <td>0</td>\n",
       "      <td>0</td>\n",
       "      <td>0</td>\n",
       "      <td>1</td>\n",
       "      <td>10.489153</td>\n",
       "      <td>11.58500</td>\n",
       "      <td>48.3333</td>\n",
       "      <td>23.500518</td>\n",
       "      <td>364</td>\n",
       "      <td>1432</td>\n",
       "      <td>1796</td>\n",
       "    </tr>\n",
       "    <tr>\n",
       "      <th>729</th>\n",
       "      <td>730</td>\n",
       "      <td>31-12-2019</td>\n",
       "      <td>1</td>\n",
       "      <td>1</td>\n",
       "      <td>12</td>\n",
       "      <td>0</td>\n",
       "      <td>1</td>\n",
       "      <td>1</td>\n",
       "      <td>2</td>\n",
       "      <td>8.849153</td>\n",
       "      <td>11.17435</td>\n",
       "      <td>57.7500</td>\n",
       "      <td>10.374682</td>\n",
       "      <td>439</td>\n",
       "      <td>2290</td>\n",
       "      <td>2729</td>\n",
       "    </tr>\n",
       "  </tbody>\n",
       "</table>\n",
       "</div>"
      ],
      "text/plain": [
       "     instant      dteday  season  yr  mnth  holiday  weekday  workingday  \\\n",
       "725      726  27-12-2019       1   1    12        0        4           1   \n",
       "726      727  28-12-2019       1   1    12        0        5           1   \n",
       "727      728  29-12-2019       1   1    12        0        6           0   \n",
       "728      729  30-12-2019       1   1    12        0        0           0   \n",
       "729      730  31-12-2019       1   1    12        0        1           1   \n",
       "\n",
       "     weathersit       temp     atemp      hum  windspeed  casual  registered  \\\n",
       "725           2  10.420847  11.33210  65.2917  23.458911     247        1867   \n",
       "726           2  10.386653  12.75230  59.0000  10.416557     644        2451   \n",
       "727           2  10.386653  12.12000  75.2917   8.333661     159        1182   \n",
       "728           1  10.489153  11.58500  48.3333  23.500518     364        1432   \n",
       "729           2   8.849153  11.17435  57.7500  10.374682     439        2290   \n",
       "\n",
       "      cnt  \n",
       "725  2114  \n",
       "726  3095  \n",
       "727  1341  \n",
       "728  1796  \n",
       "729  2729  "
      ]
     },
     "execution_count": 4,
     "metadata": {},
     "output_type": "execute_result"
    }
   ],
   "source": [
    "df.tail()"
   ]
  },
  {
   "cell_type": "markdown",
   "id": "4b206997",
   "metadata": {},
   "source": [
    "<font color='green'>Observation</font>\n",
    "1. Data is available for each day for year 2018 and 2019\n",
    "2. Weekday at head and tail is not matching, head takes 0 as Tuesday tail takes 0 as monday\n",
    "3. Season,yr,weather sit are categorical variables having numerical values difficult to understand need mapping back text values. so it will be clear\n",
    "4. cnt is sum of casual and registered as per data dictionary"
   ]
  },
  {
   "cell_type": "markdown",
   "id": "c4214f29",
   "metadata": {},
   "source": [
    "### Understanding Structure of dataset"
   ]
  },
  {
   "cell_type": "code",
   "execution_count": 5,
   "id": "387bde50",
   "metadata": {},
   "outputs": [
    {
     "data": {
      "text/plain": [
       "(730, 16)"
      ]
     },
     "execution_count": 5,
     "metadata": {},
     "output_type": "execute_result"
    }
   ],
   "source": [
    "# checking the shape of the data\n",
    "df.shape"
   ]
  },
  {
   "cell_type": "code",
   "execution_count": 6,
   "id": "7336a4e8",
   "metadata": {},
   "outputs": [
    {
     "name": "stdout",
     "output_type": "stream",
     "text": [
      "<class 'pandas.core.frame.DataFrame'>\n",
      "RangeIndex: 730 entries, 0 to 729\n",
      "Data columns (total 16 columns):\n",
      " #   Column      Non-Null Count  Dtype  \n",
      "---  ------      --------------  -----  \n",
      " 0   instant     730 non-null    int64  \n",
      " 1   dteday      730 non-null    object \n",
      " 2   season      730 non-null    int64  \n",
      " 3   yr          730 non-null    int64  \n",
      " 4   mnth        730 non-null    int64  \n",
      " 5   holiday     730 non-null    int64  \n",
      " 6   weekday     730 non-null    int64  \n",
      " 7   workingday  730 non-null    int64  \n",
      " 8   weathersit  730 non-null    int64  \n",
      " 9   temp        730 non-null    float64\n",
      " 10  atemp       730 non-null    float64\n",
      " 11  hum         730 non-null    float64\n",
      " 12  windspeed   730 non-null    float64\n",
      " 13  casual      730 non-null    int64  \n",
      " 14  registered  730 non-null    int64  \n",
      " 15  cnt         730 non-null    int64  \n",
      "dtypes: float64(4), int64(11), object(1)\n",
      "memory usage: 91.4+ KB\n"
     ]
    }
   ],
   "source": [
    "df.info()"
   ]
  },
  {
   "cell_type": "code",
   "execution_count": null,
   "id": "5d28fc05",
   "metadata": {},
   "outputs": [],
   "source": [
    "#checking data distribution\n",
    "df.describe()"
   ]
  },
  {
   "cell_type": "markdown",
   "id": "ee4103dd",
   "metadata": {},
   "source": [
    "<font color='green'>Observation</font>\n",
    " 1. 730 rows and 16 columns\n",
    " 2. dteday  needs to be type casted to date time\n",
    " 3. All numerical columns does not have abnormal jump between 75 to max. No Outlier present"
   ]
  },
  {
   "cell_type": "markdown",
   "id": "6ed3e904",
   "metadata": {},
   "source": [
    "### Data Quality checks"
   ]
  },
  {
   "cell_type": "code",
   "execution_count": null,
   "id": "79319385",
   "metadata": {},
   "outputs": [],
   "source": [
    "# Checking columns with missing percentage\n",
    "100*df.isnull().mean().sort_values(0)"
   ]
  },
  {
   "cell_type": "code",
   "execution_count": null,
   "id": "b588a2a0",
   "metadata": {},
   "outputs": [],
   "source": [
    "# checking rows with missing percentage\n",
    "100*df.isnull().mean(axis=1).sort_values(0)"
   ]
  },
  {
   "cell_type": "code",
   "execution_count": null,
   "id": "b7c447c1",
   "metadata": {},
   "outputs": [],
   "source": [
    "# checking for duplicate rows\n",
    "df_duplicated = df[df.duplicated()]\n",
    "print(\"number of duplicate rows: \", df_duplicated.shape)"
   ]
  },
  {
   "cell_type": "code",
   "execution_count": null,
   "id": "f394674a",
   "metadata": {},
   "outputs": [],
   "source": [
    "#checking for Cloumns with Constant and unique values\n",
    "df.nunique()"
   ]
  },
  {
   "cell_type": "markdown",
   "id": "2ef7a1fd",
   "metadata": {},
   "source": [
    "<font color='green'>Observation</font>\n",
    "1. No missing values at rows and columns\n",
    "2. No duplicate rows\n",
    "3. instant and dteday is having unique values\n",
    "4. Season,yr,mnth,holiday,weekday,workingday values matches with data dictionary\n",
    "5. weathersit having only 3 valus one of the value not having any data"
   ]
  },
  {
   "cell_type": "markdown",
   "id": "25279441",
   "metadata": {},
   "source": [
    "## Data Preparation"
   ]
  },
  {
   "cell_type": "markdown",
   "id": "1d59b3ab",
   "metadata": {},
   "source": [
    "### Fixing Data Types"
   ]
  },
  {
   "cell_type": "code",
   "execution_count": null,
   "id": "457ed00e",
   "metadata": {},
   "outputs": [],
   "source": [
    "# converting date type\n",
    "df[\"dteday\"] = pd.to_datetime(df[\"dteday\"],format=\"%d-%m-%Y\")"
   ]
  },
  {
   "cell_type": "code",
   "execution_count": null,
   "id": "0f53ba48",
   "metadata": {},
   "outputs": [],
   "source": [
    "df.info()"
   ]
  },
  {
   "cell_type": "code",
   "execution_count": null,
   "id": "90b569bf",
   "metadata": {},
   "outputs": [],
   "source": []
  },
  {
   "cell_type": "code",
   "execution_count": null,
   "id": "46822b44",
   "metadata": {},
   "outputs": [],
   "source": [
    "\n",
    "# As the weekday is not clean and 0 to 6 difficult understand, mapping weekday with day name\n",
    "df[\"weekday\"] = df[\"dteday\"].dt.day_name()"
   ]
  },
  {
   "cell_type": "code",
   "execution_count": null,
   "id": "98083395",
   "metadata": {},
   "outputs": [],
   "source": [
    "df.head()"
   ]
  },
  {
   "cell_type": "code",
   "execution_count": null,
   "id": "7d4745e5",
   "metadata": {},
   "outputs": [],
   "source": [
    "df.tail()"
   ]
  },
  {
   "cell_type": "markdown",
   "id": "9266e287",
   "metadata": {},
   "source": [
    "<font color='green'>Observation</font>\n",
    "  1. Now both head and tail weekdays are matching"
   ]
  },
  {
   "cell_type": "markdown",
   "id": "d8a25169",
   "metadata": {},
   "source": [
    "### Converting Values to clean and understandable format"
   ]
  },
  {
   "cell_type": "code",
   "execution_count": null,
   "id": "b2727e45",
   "metadata": {},
   "outputs": [],
   "source": [
    "# Defining the map function for season\n",
    "def season_map(x):\n",
    "    return {1:\"spring\", 2:\"summer\", 3:\"fall\", 4:\"winter\"}[x]\n",
    "\n",
    "# Defining the map function for year\n",
    "def year_map(x):\n",
    "    return {0:\"2018\", 1:\"2019\"}[x]\n",
    "\n",
    "# Defining the map function for month\n",
    "def month_map(x):\n",
    "    return {1:\"JAN\", 2:\"FEB\", 3:\"MAR\", 4:\"APR\",5:\"MAY\", 6:\"JUN\", \n",
    "                  7:\"JUL\", 8:\"AUG\",9:\"SEP\", 10:\"OCT\", 11:\"NOV\", 12:\"DEC\"}[x]\n",
    "\n",
    "# Defining the map function for weathersit\n",
    "def weathersit_map(x):\n",
    "    return {1:\"Clear\", 2:\"Mist Cloudy\", 3:\"Light Snow\", 4:\"Snow Fog\"}[x]\n",
    "\n",
    "# Applying the function to the season\n",
    "df[\"season\"] = df[\"season\"].apply(season_map)\n",
    "\n",
    "# Applying the function to the year\n",
    "df[\"yr\"] = df[\"yr\"].apply(year_map)\n",
    "\n",
    "# Applying the function to the month\n",
    "df[\"mnth\"] = df[\"mnth\"].apply(month_map)\n",
    "\n",
    "# Applying the function to the weathersit\n",
    "df[\"weathersit\"] = df[\"weathersit\"].apply(weathersit_map)"
   ]
  },
  {
   "cell_type": "code",
   "execution_count": null,
   "id": "6d22d3fa",
   "metadata": {},
   "outputs": [],
   "source": [
    "df.head()"
   ]
  },
  {
   "cell_type": "markdown",
   "id": "3e5d3b49",
   "metadata": {},
   "source": [
    "### Droping irrelevant columns"
   ]
  },
  {
   "cell_type": "code",
   "execution_count": null,
   "id": "cf7a7a9a",
   "metadata": {},
   "outputs": [],
   "source": [
    "#instant,dteday are unique\n",
    "# casual,casual are dependent variables to target\n",
    "df.drop(['instant','dteday','casual','registered'], axis = 1, inplace = True)"
   ]
  },
  {
   "cell_type": "code",
   "execution_count": null,
   "id": "12185392",
   "metadata": {},
   "outputs": [],
   "source": [
    "df.head()"
   ]
  },
  {
   "cell_type": "markdown",
   "id": "6c75eab4",
   "metadata": {},
   "source": [
    "## EDA"
   ]
  },
  {
   "cell_type": "code",
   "execution_count": null,
   "id": "2097f163",
   "metadata": {},
   "outputs": [],
   "source": [
    "categorical_variables = [\"season\",\"yr\",\"mnth\",\"holiday\",\"weekday\",\"workingday\",\"weathersit\"]\n",
    "continuous_variables = [\"temp\",\"atemp\",\"hum\",\"windspeed\",\"cnt\"]"
   ]
  },
  {
   "cell_type": "markdown",
   "id": "1ddf2221",
   "metadata": {},
   "source": [
    "#### Univariate Analysis"
   ]
  },
  {
   "cell_type": "code",
   "execution_count": null,
   "id": "7bb08634",
   "metadata": {
    "scrolled": true
   },
   "outputs": [],
   "source": [
    "for column in continuous_variables:\n",
    "    sns.histplot(x=df[column])\n",
    "    plt.title(column+ ' count distribution')\n",
    "    plt.show()"
   ]
  },
  {
   "cell_type": "markdown",
   "id": "25f299d7",
   "metadata": {},
   "source": [
    "<font color='green'>Observation</font>\n",
    " 1. Most days winds speed between 7.5 to 17.5\n",
    " 2. Most days humidity between 50 to 80\n",
    " 3. Most days demand between 4K to 6K"
   ]
  },
  {
   "cell_type": "code",
   "execution_count": null,
   "id": "75d7daba",
   "metadata": {},
   "outputs": [],
   "source": [
    "for column in categorical_variables:\n",
    "    sns.countplot(x=df[column])\n",
    "    plt.title(column+ ' count distribution')\n",
    "    plt.show()"
   ]
  },
  {
   "cell_type": "markdown",
   "id": "766a551d",
   "metadata": {},
   "source": [
    "<font color='green'>Observation</font>\n",
    " 1. As there is one row present for each day - month,year,weekday,season,holiday,working day has no patterns simply reflects clender\n",
    " 2. No Data for weather is Heavy Rain + Ice Pallets + Thunderstorm + Mist, Snow + Fog"
   ]
  },
  {
   "cell_type": "markdown",
   "id": "2ae8b860",
   "metadata": {},
   "source": [
    "#### Bivariate Analysis"
   ]
  },
  {
   "cell_type": "code",
   "execution_count": null,
   "id": "a8ca2a2e",
   "metadata": {},
   "outputs": [],
   "source": [
    "#creating pair plot for numerical values\n",
    "sns.pairplot(df)\n",
    "plt.show()"
   ]
  },
  {
   "cell_type": "markdown",
   "id": "1d792f25",
   "metadata": {},
   "source": [
    "<font color='green'>Observation</font>\n",
    "  1. temp and atemp haing postive linear relationship\n",
    "  2. humidity and windspeed having negative linear relationship"
   ]
  },
  {
   "cell_type": "code",
   "execution_count": null,
   "id": "b1db8e8e",
   "metadata": {},
   "outputs": [],
   "source": [
    "for column in categorical_variables:\n",
    "    sns.boxplot(x=df[column],y=df[\"cnt\"])\n",
    "    plt.show()"
   ]
  },
  {
   "cell_type": "markdown",
   "id": "6006977d",
   "metadata": {},
   "source": [
    "<font color='green'>Observation</font>\n",
    "1. Spring Season having lesser demand compared to other season and fall season had more demand\n",
    "2. 2019 had more demand compared to 2018\n",
    "3. Demand increase gradually from JAN to SEP and then drops\n",
    "4. More demand observed on the non-holiday\n",
    "5. More demand observed on the clear weather situation\n"
   ]
  },
  {
   "cell_type": "markdown",
   "id": "3085ba93",
   "metadata": {},
   "source": [
    "<font color='green'>validation of lienar Regression Assumption</font> \n",
    "1. We can observe linear relation between target variable and features"
   ]
  },
  {
   "cell_type": "markdown",
   "id": "a9d397dd",
   "metadata": {},
   "source": [
    "### Creating Dummy Variables"
   ]
  },
  {
   "cell_type": "code",
   "execution_count": null,
   "id": "9cbccf1d",
   "metadata": {},
   "outputs": [],
   "source": [
    "# creating dummies for categorical variable which is non binary\n",
    "# drop_first= True makes sure n-1 dummy variable creation\n",
    "dummies_df = pd.get_dummies(df[[\"season\",\"yr\",\"mnth\",\"weekday\",\"weathersit\"]], drop_first = True)\n",
    "df = pd.concat([df, dummies_df], axis = 1)\n",
    "df.columns"
   ]
  },
  {
   "cell_type": "code",
   "execution_count": null,
   "id": "f99eb58c",
   "metadata": {},
   "outputs": [],
   "source": [
    "# droping Original columns\n",
    "df.drop([\"season\",\"yr\",\"mnth\",\"weekday\",\"weathersit\"], axis = 1, inplace = True)"
   ]
  },
  {
   "cell_type": "markdown",
   "id": "f6b2c96e",
   "metadata": {},
   "source": [
    "## Model Building"
   ]
  },
  {
   "cell_type": "markdown",
   "id": "191d95e7",
   "metadata": {},
   "source": [
    "### Test Train Split"
   ]
  },
  {
   "cell_type": "code",
   "execution_count": null,
   "id": "494ef896",
   "metadata": {},
   "outputs": [],
   "source": [
    "#using 80% training data and 20% test data\n",
    "df_train, df_test = train_test_split(df, train_size = 0.7, test_size = 0.3, random_state = 100)"
   ]
  },
  {
   "cell_type": "markdown",
   "id": "c98fba90",
   "metadata": {},
   "source": [
    "### Scaling features"
   ]
  },
  {
   "cell_type": "code",
   "execution_count": null,
   "id": "4d7c7a73",
   "metadata": {},
   "outputs": [],
   "source": [
    "#using min max scaler to scale the numerical values\n",
    "scaler = MinMaxScaler()\n",
    "numerical_cloumns = ['temp', 'atemp', 'hum', 'windspeed','cnt']\n",
    "df_train[numerical_cloumns] = scaler.fit_transform(df_train[numerical_cloumns])"
   ]
  },
  {
   "cell_type": "code",
   "execution_count": null,
   "id": "fdd9d312",
   "metadata": {},
   "outputs": [],
   "source": [
    "df_train.describe()"
   ]
  },
  {
   "cell_type": "code",
   "execution_count": null,
   "id": "6e6eb53d",
   "metadata": {},
   "outputs": [],
   "source": [
    "#checking the correlation coefficients to see which variables are highly correlated \n",
    "plt.figure(figsize = (32, 20))\n",
    "sns.heatmap(df_train.corr(), annot = True, cmap=\"YlGnBu\")\n",
    "plt.show()"
   ]
  },
  {
   "cell_type": "markdown",
   "id": "09f58aab",
   "metadata": {},
   "source": [
    "<font color='green'>Observation</font>\n",
    "1. temp and atemp are highly correlated\n",
    "2. seasons and respective months in which season occurs are highly correlated as expected\n",
    "3. humidity and weather light snow and mist are highly co-related\n",
    "4. Demand(cnt) having high correlation with temp, year-2019"
   ]
  },
  {
   "cell_type": "code",
   "execution_count": null,
   "id": "7d7f4920",
   "metadata": {},
   "outputs": [],
   "source": [
    "df_train.columns.size"
   ]
  },
  {
   "cell_type": "markdown",
   "id": "e85fadae",
   "metadata": {},
   "source": [
    "As there are 29 features we can use RFE Automated + Manual approach for feature selection"
   ]
  },
  {
   "cell_type": "markdown",
   "id": "ef48224a",
   "metadata": {},
   "source": [
    "### Feature Selection"
   ]
  },
  {
   "cell_type": "markdown",
   "id": "b5bee60e",
   "metadata": {},
   "source": [
    "#### RFE"
   ]
  },
  {
   "cell_type": "code",
   "execution_count": null,
   "id": "b8ec05b1",
   "metadata": {},
   "outputs": [],
   "source": [
    "#split target and features\n",
    "y_train = df_train.pop('cnt') #removing column cnt from df_train\n",
    "X_train = df_train"
   ]
  },
  {
   "cell_type": "code",
   "execution_count": null,
   "id": "015152c5",
   "metadata": {},
   "outputs": [],
   "source": [
    "#using RFE get 15 features\n",
    "estimator=LinearRegression()\n",
    "selector=RFE(estimator,n_features_to_select=15)\n",
    "\n",
    "selector=selector.fit(X_train,y_train)\n",
    "list(zip(X_train.columns,selector.support_,selector.ranking_)) #printing along with rank"
   ]
  },
  {
   "cell_type": "code",
   "execution_count": null,
   "id": "76c9454b",
   "metadata": {},
   "outputs": [],
   "source": [
    "#filtering the data based on selected features\n",
    "selected_features=df_train.columns[selector.support_]\n",
    "X_train=df_train[selected_features]\n",
    "X_test=df_test[selected_features]"
   ]
  },
  {
   "cell_type": "code",
   "execution_count": null,
   "id": "bf7d4f44",
   "metadata": {},
   "outputs": [],
   "source": [
    "X_train_sm=sm.add_constant(X_train)#adding contant to work with stats model"
   ]
  },
  {
   "cell_type": "code",
   "execution_count": null,
   "id": "edade246",
   "metadata": {},
   "outputs": [],
   "source": [
    "#model training\n",
    "model1=sm.OLS(y_train,X_train_sm)\n",
    "result1=model1.fit()\n",
    "result1.summary()"
   ]
  },
  {
   "cell_type": "code",
   "execution_count": null,
   "id": "d44f2b72",
   "metadata": {},
   "outputs": [],
   "source": [
    "#checking for VIF\n",
    "vif_data=pd.DataFrame()\n",
    "vif_data[\"Feature\"]=X_train.columns\n",
    "\n",
    "vif_data[\"VIF\"]=[variance_inflation_factor(X_train.values,i) \n",
    "                 for i in range(len(X_train.columns))]\n",
    "vif_data"
   ]
  },
  {
   "cell_type": "markdown",
   "id": "a4c5f408",
   "metadata": {},
   "source": [
    "### Manual Feature Selection"
   ]
  },
  {
   "cell_type": "code",
   "execution_count": null,
   "id": "d3854095",
   "metadata": {},
   "outputs": [],
   "source": [
    "#droping humidity due to high VIF\n",
    "X_train_sm=X_train_sm.drop([\"hum\"],axis=1)"
   ]
  },
  {
   "cell_type": "code",
   "execution_count": null,
   "id": "20a5e621",
   "metadata": {},
   "outputs": [],
   "source": [
    "# re-iterating the model2\n",
    "model2=sm.OLS(y_train,X_train_sm)\n",
    "result2=model2.fit()\n",
    "result2.summary()"
   ]
  },
  {
   "cell_type": "code",
   "execution_count": null,
   "id": "2f378220",
   "metadata": {},
   "outputs": [],
   "source": [
    "#checking for VIF\n",
    "vif_data=pd.DataFrame()\n",
    "vif_data[\"Feature\"] = X_train_sm.columns\n",
    "vif_data[\"VIF\"]=[variance_inflation_factor(X_train_sm.values,i) \n",
    "                 for i in range(len(X_train_sm.columns))]\n",
    "vif_data"
   ]
  },
  {
   "cell_type": "code",
   "execution_count": null,
   "id": "89f86cc3",
   "metadata": {},
   "outputs": [],
   "source": [
    "#droping season_spring due to high VIF\n",
    "X_train_sm=X_train_sm.drop([\"season_spring\"],axis=1)"
   ]
  },
  {
   "cell_type": "code",
   "execution_count": null,
   "id": "07e0c3dc",
   "metadata": {},
   "outputs": [],
   "source": [
    "#re-iterate the model\n",
    "model3=sm.OLS(y_train,X_train_sm)\n",
    "result3=model3.fit()\n",
    "result3.summary()"
   ]
  },
  {
   "cell_type": "code",
   "execution_count": null,
   "id": "61a14b75",
   "metadata": {},
   "outputs": [],
   "source": [
    "#checking for VIF\n",
    "vif_data=pd.DataFrame()\n",
    "vif_data[\"Feature\"]=X_train_sm.columns\n",
    "vif_data[\"VIF\"]=[variance_inflation_factor(X_train_sm.values,i) \n",
    "                 for i in range(len(X_train_sm.columns))]\n",
    "vif_data"
   ]
  },
  {
   "cell_type": "code",
   "execution_count": null,
   "id": "a51e6662",
   "metadata": {},
   "outputs": [],
   "source": [
    "# dropping month Nov due to p value >0.05\n",
    "X_train_sm=X_train_sm.drop([\"mnth_NOV\"],axis=1)"
   ]
  },
  {
   "cell_type": "code",
   "execution_count": null,
   "id": "af0edfad",
   "metadata": {},
   "outputs": [],
   "source": [
    "#re-iterate model 4\n",
    "model4=sm.OLS(y_train,X_train_sm)\n",
    "result4=model4.fit()\n",
    "result4.summary()"
   ]
  },
  {
   "cell_type": "code",
   "execution_count": null,
   "id": "95166723",
   "metadata": {},
   "outputs": [],
   "source": [
    "#checking for VIF\n",
    "vif_data=pd.DataFrame()\n",
    "vif_data[\"Feature\"]=X_train_sm.columns\n",
    "\n",
    "vif_data[\"VIF\"]=[variance_inflation_factor(X_train_sm.values,i) \n",
    "                 for i in range(len(X_train_sm.columns))]\n",
    "vif_data"
   ]
  },
  {
   "cell_type": "code",
   "execution_count": null,
   "id": "e809f993",
   "metadata": {},
   "outputs": [],
   "source": [
    "# dropping month December  due to pvalue >0.05\n",
    "X_train_sm=X_train_sm.drop([\"mnth_DEC\"],axis=1)"
   ]
  },
  {
   "cell_type": "code",
   "execution_count": null,
   "id": "c3029899",
   "metadata": {},
   "outputs": [],
   "source": [
    "#re-iterate model 5\n",
    "model5=sm.OLS(y_train,X_train_sm)\n",
    "result5=model5.fit()\n",
    "result5.summary()"
   ]
  },
  {
   "cell_type": "code",
   "execution_count": null,
   "id": "2a0acb34",
   "metadata": {},
   "outputs": [],
   "source": [
    "#checking VIF\n",
    "vif_data=pd.DataFrame()\n",
    "vif_data[\"Feature\"]=X_train_sm.columns\n",
    "\n",
    "vif_data[\"VIF\"]=[variance_inflation_factor(X_train_sm.values,i) \n",
    "                 for i in range(len(X_train_sm.columns))]\n",
    "vif_data"
   ]
  },
  {
   "cell_type": "markdown",
   "id": "9fa8fea9",
   "metadata": {},
   "source": [
    "1. All the P value are <0.006 and VIF <5 \n",
    "2. Selected 10 features are optimal and we can stop iteration"
   ]
  },
  {
   "cell_type": "markdown",
   "id": "18f4bead",
   "metadata": {},
   "source": [
    "## Model Evaluation"
   ]
  },
  {
   "cell_type": "markdown",
   "id": "bf07b134",
   "metadata": {},
   "source": [
    "### Residual Analysis"
   ]
  },
  {
   "cell_type": "code",
   "execution_count": null,
   "id": "dc3c3746",
   "metadata": {},
   "outputs": [],
   "source": [
    "#calculating y_pred\n",
    "y_pred = result5.predict(X_train_sm)"
   ]
  },
  {
   "cell_type": "code",
   "execution_count": null,
   "id": "637ccfa0",
   "metadata": {},
   "outputs": [],
   "source": [
    "\n",
    "def plot_Error_Terms(y_actual,y_pred):\n",
    "    fig = plt.figure()\n",
    "    sns.distplot((y_actual - y_pred), bins = 20)\n",
    "    fig.suptitle('Error Terms', fontsize = 20)\n",
    "    plt.xlabel('Errors', fontsize = 18)\n",
    "\n",
    "# Plot the histogram of the error terms\n",
    "plot_Error_Terms(y_train,y_pred)   "
   ]
  },
  {
   "cell_type": "code",
   "execution_count": null,
   "id": "d615758f",
   "metadata": {},
   "outputs": [],
   "source": [
    "\n",
    "def plot_actual_and_pred(y_actaul,y_pred):\n",
    "    fig = plt.figure()\n",
    "    plt.scatter(y_actaul,y_pred)\n",
    "    fig.suptitle('y_actual vs y_pred', fontsize=20)             \n",
    "    plt.xlabel('y_actual', fontsize=18)                         \n",
    "    plt.ylabel('y_pred', fontsize=16)\n",
    "    \n",
    "#ploting actual vs prediction for train data.   \n",
    "plot_actual_and_pred(y_train,y_pred)"
   ]
  },
  {
   "cell_type": "code",
   "execution_count": null,
   "id": "1a528943",
   "metadata": {},
   "outputs": [],
   "source": [
    "#plotting error variance\n",
    "def plot_error_and_pred(y_actual,y_pred):\n",
    "    fig = plt.figure()\n",
    "    plt.scatter(y_pred,(y_actual-y_pred))\n",
    "    fig.suptitle('Error vs y_pred', fontsize=20)             \n",
    "    plt.xlabel('y_pred', fontsize=18)                         \n",
    "    plt.ylabel('Error', fontsize=16)\n",
    "plot_error_and_pred(y_train,y_pred)"
   ]
  },
  {
   "cell_type": "code",
   "execution_count": null,
   "id": "dfb5c323",
   "metadata": {},
   "outputs": [],
   "source": [
    "#calculating root mean square error\n",
    "rmse = mean_squared_error(y_train, y_pred, squared=False)\n",
    "rmse"
   ]
  },
  {
   "cell_type": "markdown",
   "id": "9472aeca",
   "metadata": {},
   "source": [
    "### model Evaluation using Test data"
   ]
  },
  {
   "cell_type": "code",
   "execution_count": null,
   "id": "5926c50e",
   "metadata": {},
   "outputs": [],
   "source": [
    "#scaling test data with training data fitting \n",
    "df_test[numerical_cloumns] = scaler.transform(df_test[numerical_cloumns])\n",
    "df_test.describe()"
   ]
  },
  {
   "cell_type": "code",
   "execution_count": null,
   "id": "3baa3fd6",
   "metadata": {},
   "outputs": [],
   "source": [
    "#preparing test data for prediction\n",
    "y_test = df_test.pop('cnt')\n",
    "X_test = df_test"
   ]
  },
  {
   "cell_type": "code",
   "execution_count": null,
   "id": "799dd05c",
   "metadata": {},
   "outputs": [],
   "source": [
    "X_test_sm = sm.add_constant(X_test)"
   ]
  },
  {
   "cell_type": "code",
   "execution_count": null,
   "id": "f7eb7db1",
   "metadata": {},
   "outputs": [],
   "source": [
    "X_test_sm = X_test_sm[X_train_sm.columns]"
   ]
  },
  {
   "cell_type": "code",
   "execution_count": null,
   "id": "8eb9cbe6",
   "metadata": {},
   "outputs": [],
   "source": [
    "#making prediction on test data\n",
    "y_pred_test = result5.predict(X_test_sm)"
   ]
  },
  {
   "cell_type": "code",
   "execution_count": null,
   "id": "50f333ee",
   "metadata": {},
   "outputs": [],
   "source": [
    "# Plot the histogram of the error terms for test data\n",
    "plot_Error_Terms(y_test,y_pred_test)   "
   ]
  },
  {
   "cell_type": "code",
   "execution_count": null,
   "id": "efabca9c",
   "metadata": {},
   "outputs": [],
   "source": [
    "#ploting actual vs prediction for test data\n",
    "plot_actual_and_pred(y_test,y_pred_test)"
   ]
  },
  {
   "cell_type": "code",
   "execution_count": null,
   "id": "038d2542",
   "metadata": {},
   "outputs": [],
   "source": [
    "#plotting error variance\n",
    "plot_error_and_pred(y_test,y_pred_test)"
   ]
  },
  {
   "cell_type": "code",
   "execution_count": null,
   "id": "5ce84574",
   "metadata": {},
   "outputs": [],
   "source": [
    "r2=r2_score(y_test, y_pred_test)\n",
    "r2"
   ]
  },
  {
   "cell_type": "code",
   "execution_count": null,
   "id": "d70223d5",
   "metadata": {},
   "outputs": [],
   "source": [
    "X_test_sm.shape"
   ]
  },
  {
   "cell_type": "code",
   "execution_count": null,
   "id": "60c02663",
   "metadata": {},
   "outputs": [],
   "source": [
    "adj_r2 = 1-(1-r2)*(X_test_sm.shape[0]-1)/(X_test_sm.shape[0]-X_test_sm.shape[1]-1)\n",
    "adj_r2"
   ]
  },
  {
   "cell_type": "code",
   "execution_count": null,
   "id": "e0553c14",
   "metadata": {},
   "outputs": [],
   "source": [
    "rmse = mean_squared_error(y_test, y_pred_test, squared=False)\n",
    "rmse"
   ]
  },
  {
   "cell_type": "code",
   "execution_count": null,
   "id": "2599e76c",
   "metadata": {},
   "outputs": [],
   "source": []
  },
  {
   "cell_type": "markdown",
   "id": "bf85d557",
   "metadata": {},
   "source": [
    "<font color='green'>Observation</font>\n",
    "\n",
    "From both training and test data residual analysis we can confirm that\n",
    "1. Error terms are normally distributed \n",
    "2. Error terms are independent of each other\n",
    "3. Error terms have constant variance (homoscedasticity)"
   ]
  },
  {
   "cell_type": "markdown",
   "id": "e5e0f44e",
   "metadata": {},
   "source": [
    "### Model Efficiency"
   ]
  },
  {
   "cell_type": "markdown",
   "id": "6019b94e",
   "metadata": {},
   "source": [
    "1. Training Data R^2 - 0.835\n",
    "2. Training Data Adjusted R^2 -0.831\n",
    "3. Training Data MSE -  0.0912\n",
    "4. Test Data R^2 - 0.791\n",
    "5. Test Data Adjusted R^2 - 0.778\n",
    "6. Test Data MSE - 0.0995"
   ]
  },
  {
   "cell_type": "markdown",
   "id": "7cb0196d",
   "metadata": {},
   "source": [
    "## Conclusion"
   ]
  },
  {
   "cell_type": "markdown",
   "id": "34c77b3e",
   "metadata": {},
   "source": [
    "$ cnt  = 0.1481-0.0994  \\times holiday + 0.5408 \\times temp -0.1615 \\times windspeed + 0.0722 \\times season \\_ summer + 0.1153 \\times season\\_winter + 0.2331 \\times yr\\_2019\n",
    "-0.0442 \\times mnth\\_JAN -0.0398 \\times mnth\\_JUL +0.0898 \\times mnth\\_SEP -0.2845 \\times weathersit\\_Light Snow -0.0798 \\times weathersit\\_Mist Cloudy $"
   ]
  },
  {
   "cell_type": "markdown",
   "id": "6558c7a4",
   "metadata": {},
   "source": [
    "Following are the predictor impacting demand in order highest to lowest\n",
    "1. temp\n",
    "2. weathersit_Light Snow\n",
    "3. year 2019\n",
    "4. windspeed\n",
    "5. season_winter\n",
    "6. holiday\n",
    "7. mnth_SEP\n",
    "8. weathersit_Mist Cloudy\n",
    "9. season_summer\n",
    "10. mnth_JAN\n",
    "11. mnth_JUL"
   ]
  },
  {
   "cell_type": "markdown",
   "id": "e933db11",
   "metadata": {},
   "source": [
    "How well this predictors describe demand is explained by it's respective co-efficient on the above equation"
   ]
  },
  {
   "cell_type": "code",
   "execution_count": null,
   "id": "e51e9009",
   "metadata": {},
   "outputs": [],
   "source": []
  }
 ],
 "metadata": {
  "kernelspec": {
   "display_name": "Python 3 (ipykernel)",
   "language": "python",
   "name": "python3"
  },
  "language_info": {
   "codemirror_mode": {
    "name": "ipython",
    "version": 3
   },
   "file_extension": ".py",
   "mimetype": "text/x-python",
   "name": "python",
   "nbconvert_exporter": "python",
   "pygments_lexer": "ipython3",
   "version": "3.11.3"
  }
 },
 "nbformat": 4,
 "nbformat_minor": 5
}
